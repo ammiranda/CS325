{
 "cells": [
  {
   "cell_type": "markdown",
   "metadata": {},
   "source": [
    "Name: Alexander Miranda   \n",
    "Date: November 16, 2016  \n",
    "Assignment: Homework 4  "
   ]
  },
  {
   "cell_type": "markdown",
   "metadata": {},
   "source": [
    "1) Let $X$ and $Y$ be two decision problems. Suppose we know that $X$ reduces to $Y$ in polynomial time. Which of the following can we infer? Explain\n",
    "\n",
    "a) If $Y$ is NP-complete then so is $X$.\n",
    "\n",
    "b) If $X$ is NP-complete then so is $Y$.\n",
    "\n",
    "c) If $Y$ is NP-complete and $X$ is in NP then $X$ is NP-complete.\n",
    "\n",
    "d) If $X$ is NP-complete and $Y$ is in NP then $Y$ is NP-complete.\n",
    "\n",
    "e) $X$ and $Y$ can't both be NP-complete\n",
    "\n",
    "f) If $X$ is in P, then $Y$ is in P.\n",
    "\n",
    "g) If $Y$ is in P, then $X$ is in P.\n",
    "\n",
    "We can only infer d and g because $X$ reduces to $Y$ means that if you had a black box to solve Y efficiently you could use it to solve X efficiently. X is therefore no harder than Y.\n"
   ]
  },
  {
   "cell_type": "markdown",
   "metadata": {},
   "source": [
    "2) Consider the problem COMPOSITE: given an integer $y$, does $y$ have any factors other than\n",
    "one and itself? For this exercise, you may assume that COMPOSITE is in NP, and you will\n",
    "be comparing it to the well-known NP-complete problem SUBSET-SUM: given a set $S$ of $n$\n",
    "integers and an integer target $t$, is there a subset of $S$ whose sum is exactly $t$?\n",
    "Clearly explain whether or not each of the following statements follows from that fact that\n",
    "COMPOSITE is in NP and SUBSET-SUM is NP-complete:\n",
    "\n",
    "a) $SUBSET-SUM \\leq_p COMPOSITE$  \n",
    "\n",
    "b) If there is an $O(n^3)$ algorithm for $SUBSET-SUM$, then there is a polynomial time\n",
    "algorithm for $COMPOSITE$.\n",
    "\n",
    "c) If there is a polynomial algorithm for $COMPOSITE$, then $P = NP$\n",
    "\n",
    "d) If $P \\neq NP$, then no problem in $NP$ can be solved in polynomial time."
   ]
  },
  {
   "cell_type": "markdown",
   "metadata": {},
   "source": [
    "3) Two well-known NP-complete problems are $3-SAT$ and $TSP$, the traveling salesman problem. The\n",
    "$2-SAT$ problem is a $SAT$ variant in which each clause contains at most two literals. $2-SAT$ is known to\n",
    "have a polynomial-time algorithm. Is each of the following statements true or false? Justify your\n",
    "answer\n",
    "\n",
    "a) $3-SAT \\leq_p TSP$  \n",
    "\n",
    "b) If $P \\neq NP$, then $3-SAT \\leq_p 2-SAT$.  \n",
    "\n",
    "c) If $P \\neq NP$, then no NP-complete problem can be solved in polynomial time.  "
   ]
  },
  {
   "cell_type": "markdown",
   "metadata": {},
   "source": [
    "4) LONG-PATH is the problem of, given $(G, u, v, k)$ where $G$ is a graph, $u$ and $v$ vertices and $k$ an integer,\n",
    "determining if there is a simple path in $G$ from $u$ to $v$ of length at least $k$. Show that LONG-PATH is NP-complete.  "
   ]
  },
  {
   "cell_type": "markdown",
   "metadata": {},
   "source": [
    "5)  Graph-Coloring. Mapmakers try to use as few colors as possible when coloring countries on a map, as\n",
    "long as no two countries that share a border have the same color. We can model this problem with an\n",
    "undirected graph $G = (V,E)$ in which each vertex represents a country and vertices whose respective\n",
    "countries share a border are adjacent. A $k$-coloring is a function c: $V -> {1, 2, … , k}$ such that $c(u) \\neq c(v)$\n",
    "for every edge $(u,v) \\in E$. In other words the number $1, 2, .., k$ represent the $k$ colors and adjacent\n",
    "vertices must have different colors. The graph-coloring problem is to determine the minimum number\n",
    "of colors needed to color a given graph.\n",
    "\n",
    "a) State the graph-coloring problem as a decision problem K-COLOR. Show that your decision\n",
    "problem is solvable in polynomial time if and only of the graph-coloring problem is solvable\n",
    "in polynomial time.\n",
    "\n",
    "b) It has been proven that 3-COLOR is NP-complete by using a reduction from SAT. Use the\n",
    "fact that 3-COLOR is NP-complete to prove that 4-COLOR is NP-complete."
   ]
  }
 ],
 "metadata": {
  "kernelspec": {
   "display_name": "Python 2",
   "language": "python",
   "name": "python2"
  },
  "language_info": {
   "codemirror_mode": {
    "name": "ipython",
    "version": 2
   },
   "file_extension": ".py",
   "mimetype": "text/x-python",
   "name": "python",
   "nbconvert_exporter": "python",
   "pygments_lexer": "ipython2",
   "version": "2.7.12"
  }
 },
 "nbformat": 4,
 "nbformat_minor": 0
}

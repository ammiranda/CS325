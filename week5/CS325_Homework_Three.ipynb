{
 "cells": [
  {
   "cell_type": "markdown",
   "metadata": {},
   "source": [
    "Name: Alexander Miranda  \n",
    "Date: November 1st, 2016  \n",
    "Assignment: Homework 3  "
   ]
  },
  {
   "cell_type": "markdown",
   "metadata": {},
   "source": [
    "1) Consider the weighted graph:\n",
    "\n",
    "a) Demonstrate Prim's algorithm starting from vertex A. Write the edges in the order they were added to the minimum spanning tree.\n",
    "\n",
    "1. $AE$\n",
    "2. $EB$\n",
    "3. $BC$\n",
    "4. $CD$\n",
    "5. $CG$\n",
    "6. $GF$\n",
    "7. $DH$"
   ]
  },
  {
   "cell_type": "markdown",
   "metadata": {},
   "source": [
    "b) Demonstrate Dijkstra's algorithm on the graph, using vertex $A$ as the source. Write the vertices in the order which they are marked and compute all distances at each step.\n",
    "\n"
   ]
  },
  {
   "cell_type": "markdown",
   "metadata": {},
   "source": [
    "2) A Hamiltonian path in a graph $G=(V,E)$ is a simple path that includes every vertex in $V$. Design an algorithm to determine if a directed acyclic graph (DAG) has a Hamiltonian path. Your algorithm should run in $O(V+E)$. Provide a written description of your algorithm including why it works, pseudocode and an explanation of the running time."
   ]
  },
  {
   "cell_type": "markdown",
   "metadata": {},
   "source": []
  }
 ],
 "metadata": {
  "kernelspec": {
   "display_name": "Python 3",
   "language": "python",
   "name": "python3"
  },
  "language_info": {
   "codemirror_mode": {
    "name": "ipython",
    "version": 3
   },
   "file_extension": ".py",
   "mimetype": "text/x-python",
   "name": "python",
   "nbconvert_exporter": "python",
   "pygments_lexer": "ipython3",
   "version": "3.5.2"
  }
 },
 "nbformat": 4,
 "nbformat_minor": 0
}

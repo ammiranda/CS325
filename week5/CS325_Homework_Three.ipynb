{
 "cells": [
  {
   "cell_type": "markdown",
   "metadata": {},
   "source": [
    "Name: Alexander Miranda  \n",
    "Date: November 1st, 2016  \n",
    "Assignment: Homework 3  "
   ]
  },
  {
   "cell_type": "markdown",
   "metadata": {},
   "source": [
    "1) Consider the weighted graph:\n",
    "\n",
    "a) Demonstrate Prim's algorithm starting from vertex A. Write the edges in the order they were added to the minimum spanning tree.\n",
    "\n",
    "1. $AE$\n",
    "2. $EB$\n",
    "3. $BC$\n",
    "4. $CD$\n",
    "5. $CG$\n",
    "6. $GF$\n",
    "7. $DH$"
   ]
  },
  {
   "cell_type": "markdown",
   "metadata": {},
   "source": [
    "b) Demonstrate Dijkstra's algorithm on the graph, using vertex $A$ as the source. Write the vertices in the order which they are marked and compute all distances at each step.\n",
    "\n",
    "1. $A$ $0$\n",
    "2. $E$ $4$\n",
    "3. $B$ $5$\n",
    "4. $C$ $11$\n",
    "5. $D$ $12$\n",
    "6. $F$ $15$\n",
    "7. $G$ $15$\n",
    "8. $H$ $24$"
   ]
  },
  {
   "cell_type": "markdown",
   "metadata": {},
   "source": [
    "2) A Hamiltonian path in a graph $G=(V,E)$ is a simple path that includes every vertex in $V$. Design an algorithm to determine if a directed acyclic graph (DAG) has a Hamiltonian path. Your algorithm should run in $O(V+E)$. Provide a written description of your algorithm including why it works, pseudocode and an explanation of the running time."
   ]
  },
  {
   "cell_type": "markdown",
   "metadata": {},
   "source": [
    "This algorithm (has_hamiltonian) will topologically sort the graph which is essentially reversing the visit list that results from doing depth first search on the graph. The next step will be to look at each vertex in the list and see that there is at least one edge between each consecutive vertex. The runtime of doing the topological sort will be $O(V + E)$ and the runtime of going through the vertex list created from the topological sort will be $O(V)$, so the overall runtime of the algorithm will be $O(V + E)$ because $O(V + E)$ will dominate over the $O(V)$ term.\n",
    "\n",
    "Pseudo-code:\n",
    "\n",
    "```python\n",
    "# structure of adj_list = {4: [5], 6: [5], 5: [7], 7: []}\n",
    "\n",
    "def dfs_topsort(graph):         # recursive dfs with \n",
    "    L = []                      # additional list for order of nodes\n",
    "    color = { u : \"white\" for u in graph }\n",
    "    found_cycle = [False]\n",
    "    for u in graph:\n",
    "        if color[u] == \"white\":\n",
    "            dfs_visit(graph, u, color, L, found_cycle)\n",
    "        if found_cycle[0]:\n",
    "            break\n",
    " \n",
    "    if found_cycle[0]:           # if there is a cycle, \n",
    "        L = []                   # then return an empty list  \n",
    " \n",
    "    L.reverse()                  # reverse the list\n",
    "    return L                     # L contains the topological sort\n",
    " \n",
    " \n",
    "def dfs_visit(graph, u, color, L, found_cycle):\n",
    "    if found_cycle[0]:\n",
    "        return\n",
    "    color[u] = \"gray\"\n",
    "    for v in graph[u]:\n",
    "        if color[v] == \"gray\":\n",
    "            found_cycle[0] = True\n",
    "            return\n",
    "        if color[v] == \"white\":\n",
    "            dfs_visit(graph, v, color, L, found_cycle)\n",
    "    color[u] = \"black\"      # when we're done with u,\n",
    "    L.append(u)             # add u to list (reverse it later!)\n",
    "\n",
    "def has_hamiltonian(adj_list):\n",
    "    graph_sorted = dfs_topsort(adj_list)  \n",
    "    print(graph_sorted)\n",
    "    for i in range(0, len(graph_sorted) - 1):\n",
    "        cur_node = graph_sorted[i]\n",
    "        next_node = graph_sorted[i + 1]\n",
    "        if next_node not in adj_list[cur_node]:\n",
    "            return False\n",
    "    \n",
    "    return True\n",
    "```"
   ]
  },
  {
   "cell_type": "markdown",
   "metadata": {},
   "source": [
    "3) Below is a list of courses and prerequisites for a factious CS degree."
   ]
  },
  {
   "cell_type": "markdown",
   "metadata": {},
   "source": [
    "a) Draw a directed acyclic graph (DAG) that represents the precedence among the courses.\n",
    "\n",
    "**Note: CS 435 should have been CS 425**\n",
    "\n",
    "<img src=\"img/course_dag.jpg\" style=\"transform: rotate(180deg);\"/>"
   ]
  },
  {
   "cell_type": "markdown",
   "metadata": {},
   "source": [
    "b) Give a topological sort of the graph.\n",
    "\n",
    "One possible topological sort of the graph is:\n",
    "\n",
    "* Math 200\n",
    "* Math 201\n",
    "* CS 150\n",
    "* CS 151\n",
    "* CS 221\n",
    "* CS 222\n",
    "* CS 325\n",
    "* CS 425\n",
    "* CS 351\n",
    "* CS 370\n",
    "* CS 375\n",
    "* CS 401\n",
    "\n",
    "This sort shows that courses will need to be in an order where a course's prerequisites precede them."
   ]
  },
  {
   "cell_type": "markdown",
   "metadata": {},
   "source": [
    "c) Find an order in which all the classes can be taken. You are allowed to take multiple courses at one time as long as there is no prerequisite conflict."
   ]
  },
  {
   "cell_type": "markdown",
   "metadata": {},
   "source": [
    "One possible schedule of quarters the courses can be taken in:\n",
    "\n",
    "**Quarter One**\n",
    "\n",
    "* Math 200\n",
    "* CS 150\n",
    "\n",
    "**Quarter Two**\n",
    "\n",
    "* Math 201\n",
    "* CS 151\n",
    "\n",
    "**Quarter Three**\n",
    "\n",
    "* CS 221\n",
    "* CS 351\n",
    "* CS 370\n",
    "\n",
    "**Quarter Four**\n",
    "\n",
    "* CS 222\n",
    "* CS 325\n",
    "\n",
    "**Quarter Five**\n",
    "\n",
    "* CS 375\n",
    "* CS 425\n",
    "\n",
    "**Quarter Six**\n",
    "\n",
    "* CS 401"
   ]
  },
  {
   "cell_type": "markdown",
   "metadata": {},
   "source": [
    "d) Determine the length of the longest path in the DAG. How did you find it? What does this represent?\n",
    "\n",
    "The longest path for this course graph has a length of $5$ which I determined by visually looking over the graph to be the courses as listed:\n",
    "\n",
    "* CS 150\n",
    "* CS 151\n",
    "* CS 221\n",
    "* CS 222\n",
    "* CS 375\n",
    "* CS 401\n",
    "\n",
    "In order to find the length of the longest path for an arbitrary DAG you would need to sort it topologically and then compute the length of the longest path ending at each vertex. The length of the longest path represents the minimum number of quarters that would need to be attended to finish the CS degree with the given prerequisites."
   ]
  },
  {
   "cell_type": "markdown",
   "metadata": {},
   "source": [
    "4)  Suppose you have an undirected graph G=(V,E) and you want to determine if you can assign two colors (blue and red) to the vertices such that adjacent vertices are different colors.   This is the graph Two-Color problem.  If the assignment of two colors is possible, then a 2-coloring is a function C: V -> {blue, red} such that C(u)  C(v) for every edge (u,v)  E.  Note: a graph can have more than one 2-coloring.  \n",
    "\n",
    "Give an O(V  + E) algorithm to determine the 2-coloring of a graph if one exists or terminate with the message that the graph is not Two-Colorable.  Assume that the input graph G=(V,E) is represented using adjacency lists."
   ]
  },
  {
   "cell_type": "markdown",
   "metadata": {},
   "source": [
    "a) Give a verbal description of the algorithm and provide detailed pseudocode.\n",
    "\n",
    "The algorithm will iterate over all of the \"colorless\" vertices to then assign them a color that is opposite of the vertices it is adjacent to. If it is discovered that at least two vertices adjacent to the inspected node have both of the colors respectively the algorithm outputs the message that the graph is not two-colorable. Otherwise if the adjacent vertex has color 1, color 2 would be assigned to the inspected vertex and vice versa. If the color for the adjacent vertex is unknown the inspected vertex will be assigned the first color and the adjacent vertex will then be colored. At the conclusion of the algorithm the vertex list will be returned.\n",
    "\n",
    "```\n",
    "def main():\n",
    "    vertice_list = []\n",
    "    while there are uncolored vertices\n",
    "        select an uncolored vertex called n\n",
    "        color(n, L)\n",
    "    return vertice_list\n",
    "\n",
    "def color(vertex n):\n",
    "    if n is colorless:\n",
    "        for each vertex m with a common edge to n:\n",
    "            if some m == color1 and some m == color2:\n",
    "                return \"Graph is not two-colorable\"\n",
    "            if m == color1:\n",
    "                n = color2\n",
    "            else if m == color2:\n",
    "                n = color1\n",
    "            else if m is unknown\n",
    "                n = color1\n",
    "                color(m)\n",
    "        vertice_list.append(n)\n",
    "\n",
    "main()      \n",
    "```"
   ]
  },
  {
   "cell_type": "markdown",
   "metadata": {},
   "source": [
    "b) Analyze the running time."
   ]
  },
  {
   "cell_type": "markdown",
   "metadata": {},
   "source": [
    "Each vertex and edge are only checked once, and all other operations are in constant time ($O(1)$) therefore the running time of this algorithm will be $O(V + E)$ where $V$ and $E$ are the numbers of vertices and edges respectively."
   ]
  },
  {
   "cell_type": "markdown",
   "metadata": {},
   "source": [
    "5) A region contains a number of towns connected by roads.  Each road is labeled by the average\n",
    "number of minutes required for a fire engine to travel to it.  Each intersection is labeled with a circle. Suppose that you work for a city that has decided to place a fire station at location G. (While this problem is small, you want to devise a method to solve much larger problems)."
   ]
  },
  {
   "cell_type": "markdown",
   "metadata": {},
   "source": [
    "a) What algorithm would you recommend be used to find the fastest route from the fire station to each of the intersections?  Demonstrate how it would work on the example above if the fire station is placed at G.  Show the resulting routes."
   ]
  },
  {
   "cell_type": "markdown",
   "metadata": {},
   "source": [
    "I would use Dijkstra's algorithm to find the fastest route from the fire station location to each of the intersections. The running steps of the algorithm on the graph above is shown in a series of images below:\n",
    "\n",
    "**Asterisks denote when a vertex has been visited**"
   ]
  },
  {
   "cell_type": "markdown",
   "metadata": {},
   "source": [
    "<img src=\"img/dijkstra/one.jpg\" />"
   ]
  },
  {
   "cell_type": "markdown",
   "metadata": {},
   "source": [
    "<img src=\"img/dijkstra/two.jpg\" />"
   ]
  },
  {
   "cell_type": "markdown",
   "metadata": {},
   "source": [
    "<img src=\"img/dijkstra/three.jpg\" />"
   ]
  },
  {
   "cell_type": "markdown",
   "metadata": {},
   "source": [
    "<img src=\"img/dijkstra/four.jpg\" />"
   ]
  },
  {
   "cell_type": "markdown",
   "metadata": {},
   "source": [
    "<img src=\"img/dijkstra/five.jpg\" />"
   ]
  },
  {
   "cell_type": "markdown",
   "metadata": {},
   "source": [
    "<img src=\"img/dijkstra/six.jpg\" />"
   ]
  },
  {
   "cell_type": "markdown",
   "metadata": {},
   "source": [
    "<img src=\"img/dijkstra/seven.jpg\" />"
   ]
  },
  {
   "cell_type": "markdown",
   "metadata": {},
   "source": [
    "<img src=\"img/dijkstra/eight.jpg\" />"
   ]
  },
  {
   "cell_type": "markdown",
   "metadata": {},
   "source": [
    "b) Suppose one ”optimal” location (maybe instead of G) must be selected for the fire station such that it minimizes the distance to the farthest intersection.  Devise an algorithm to solve this problem given an arbitrary road map.  Analyze the time complexity of your algorithm when there are f possible locations for the fire station (which must be at one of the intersections) and r possible roads."
   ]
  },
  {
   "cell_type": "markdown",
   "metadata": {},
   "source": [
    "The overview of the algorithm will be to call Dijkstra's algorithm on every vertex and find the smallest max distance that results. The vertex that yields the smallest maximum distance would then be the \"optimal\" station location. The runtime of Dijkstra's algorithm is $O(r * log(f))$ where $r$ is the same as the graph edges and $f$ is the number of intersections. Dijkstra's algorithm will be run $f$ times therefore the overall runtime of the algorithm to find the optimal location will be: $O(f * r * log(f))$ The code of the algorithm is below:"
   ]
  },
  {
   "cell_type": "markdown",
   "metadata": {},
   "source": []
  },
  {
   "cell_type": "markdown",
   "metadata": {},
   "source": [
    "c) In the above graph what is the “optimal” location to place the fire station?  Why?"
   ]
  },
  {
   "cell_type": "markdown",
   "metadata": {},
   "source": [
    "When running the algorithm on the current intersection graph the optimal location for the fire station would be at intersection E where the smallest longest path distance would be E to A which is a distance of $10$. Therefore placing the fire station at E will ensure minimal response times for all locations that need to be protected."
   ]
  },
  {
   "cell_type": "markdown",
   "metadata": {},
   "source": [
    "**EXTRA CREDIT:** Now suppose you can build two fire stations.  Where would you place them to minimize the farthest distance from an intersection to one of the fire stations?  Devise an algorithm to solve this problem given an arbitrary road map.  Analyze the time complexity of your algorithm when there are f possible locations for the fire station (which must be at one of the intersections) and r possible roads."
   ]
  },
  {
   "cell_type": "markdown",
   "metadata": {},
   "source": [
    "I would place them at C and H because the furtherest distance to any one intersection is $6$. Firestation C would protect A, C, D, E and F. Firestation H would defend intersections B, G and H.\n",
    "\n",
    "The generalized algorithm would use "
   ]
  }
 ],
 "metadata": {
  "kernelspec": {
   "display_name": "Python 3",
   "language": "python",
   "name": "python3"
  },
  "language_info": {
   "codemirror_mode": {
    "name": "ipython",
    "version": 3
   },
   "file_extension": ".py",
   "mimetype": "text/x-python",
   "name": "python",
   "nbconvert_exporter": "python",
   "pygments_lexer": "ipython3",
   "version": "3.5.2"
  }
 },
 "nbformat": 4,
 "nbformat_minor": 0
}

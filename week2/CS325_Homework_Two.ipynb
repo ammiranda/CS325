{
 "cells": [
  {
   "cell_type": "markdown",
   "metadata": {},
   "source": [
    "Name: Alexander Miranda  \n",
    "Date: October 4, 2016  \n",
    "Assignment: Homework 2  \n",
    "\n",
    "1)  Give the asymptotic bounds for $T(n)$ in each of the following recurrences. Make your bounds as tight as possible and justify your answers. Assume the base cases $T(0) = 1$ and/or $T(1) = 1$.\n",
    "\n",
    "a) $T(n) = T(n - 2) + 2$\n",
    "\n",
    "b) $T(n) = 3T(n - 1) + 1$\n",
    "\n",
    "c) $T(n) = 2T(\\frac{n}{4}) + n^{2}$\n",
    "\n",
    "d) $T(n) = 9T(\\frac{n}{3}) + 6n^{2}$\n",
    "\n",
    "2) Consider the following algorithm for sorting.\n",
    "\n",
    "```\n",
    "    STOOGESORT(A[0...n - 1])\n",
    "        if n = 2 and A[0] > A[1]\n",
    "            swap A[0] and A[1]\n",
    "        else if n > 2\n",
    "            k = ceiling(2n/3)\n",
    "            STOOGESORT(A[0...k - 1]\n",
    "            STOOGESORT(A[n - k...n - 1])\n",
    "            STOOGESORT(A[0...k - 1])\n",
    "```\n",
    "\n",
    "a) Explain why the STOOGESORT algorithm sorts its input. (This is not a formal proof)\n",
    "\n",
    "b) Would STOOGESORT still sort correctly if we replaced k = ceiling(2n/3) with m = floor(2n/3)? If yes prove, if no give a counterexample. (Hint: what happens when n = 4?)\n",
    "\n",
    "c) State a recurrence for the number of comparisons executed by STOOGESORT.\n",
    "\n",
    "d) Solve the recurrence.\n",
    "\n",
    "\n",
    "3) The quaternary search algorithm is a modification of the binary search algorithm that splits the input\n",
    "not into two sets of almost-equal sizes, but into four sets of sizes approximately one-fourth. Write pseudo-code\n",
    "for the quaternary search algorithm, give the recurrence for the quaternary search algorithm and determine the\n",
    "asymptotic complexity of the algorithm. Compare the worst-case running time of the quaternary search algorithm\n",
    "to that of the binary search algorithm.\n",
    "\n",
    "4) Design and analyze a divide and conquer algorithm that determines the minimum and maximum value\n",
    "in an unsorted list (array). Write pseudo-code for the min_and_max algorithm, give the recurrence and determine\n",
    "the asymptotic running time of the algorithm. Compare the running time of the recursive min_and_max algorithm\n",
    "to that of an iterative algorithm for finding the minimum and maximum values of an array.\n",
    "\n",
    "5) An array A[1 . . . n] is said to have a majority element if more than half of its entries are the same. The\n",
    "majority element of A is any element occurring in more than n/2 positions (so if n = 6 or n = 7, the majority\n",
    "element will occur in at least 4 positions). Given an array, the task is to design an algorithm to determine whether\n",
    "the array has a majority element, and, if so, to find that element. The elements of the array are not necessarily\n",
    "from an ordered domain like the integers, so there can be no comparisons of the form “is A[i] > A[j]?”. (Think of\n",
    "the array elements as GIF files, say.) Therefore you cannot sort the array. However you can answer questions of\n",
    "the form: “does A[i] = A[j]?” in constant time. Give a detailed verbal description and pseudocode for a divide and\n",
    "conquer algorithm to find a majority element in A (or determine that no majority element exists). Give a\n",
    "recurrence for the algorithm and determine the asymptotic running time.\n",
    "Note: A O(n) algorithm exists but your algorithm only needs to be O(nlgn)."
   ]
  },
  {
   "cell_type": "code",
   "execution_count": null,
   "metadata": {
    "collapsed": true
   },
   "outputs": [],
   "source": []
  }
 ],
 "metadata": {
  "kernelspec": {
   "display_name": "Python 3",
   "language": "python",
   "name": "python3"
  },
  "language_info": {
   "codemirror_mode": {
    "name": "ipython",
    "version": 3
   },
   "file_extension": ".py",
   "mimetype": "text/x-python",
   "name": "python",
   "nbconvert_exporter": "python",
   "pygments_lexer": "ipython3",
   "version": "3.5.2"
  }
 },
 "nbformat": 4,
 "nbformat_minor": 0
}

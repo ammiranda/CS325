{
 "cells": [
  {
   "cell_type": "markdown",
   "metadata": {},
   "source": [
    "Name: Alex Miranda\n",
    "Date: September 28, 2016\n",
    "CS 325 Homework Assignment #1\n",
    "\n",
    "1) (CLRS) 1.2-2.  Suppose we are comparing implementations of insertion sort and merge sort on the same machine.  For inputs of size n, insertion sort runs in 8n2 steps, while merge sort runs in\n",
    "64nlgn steps.  For which values of n does insertion sort beat merge sort?\n",
    "\n",
    "2) (CLRS) Problem 1-1 on pages 14-15. Fill in the given table. Hint: It may be helpful to use a spreadsheet or Wolfram Alpha to find the values.\n",
    "\n",
    "3) (CLRS) 2.3-3 on page 39.  Use mathematical induction to show that when n is an exact power of 2, the solution of the recurrence \n",
    "\n",
    "4) For each of the following pairs of functions, either f(n) is O(g(n)), f(n) is Ω(g(n)), or f(n) = Θ(g(n)). Determine which relationship is correct and explain.  \n",
    "    a) $f(n) = n^{0.75}$ $g(n) = n^{0.5}$  \n",
    "    b) $f(n) = n$ $g(n) = log_2(n)$  \n",
    "    c) $f(n) = log(n)$ $g(n) = log_2(n)$  \n",
    "    d) $f(n) = e^{n}$ $g(n) = 2^{n}$  \n",
    "    e) $f(n) = 2^{n}$ $g(n) = 2^{n - 1}$  \n",
    "    f) $f(n) = 2^{n}$ $g(n) = 2^{2^{n}}$  \n",
    "    g) $f(n) = 2^{n}$ $g(n) = n!$  \n",
    "    h) $f(n) = n * log_2(n)$ $g(n) = n\\sqrt{n}$\n",
    "    \n"
   ]
  },
  {
   "cell_type": "code",
   "execution_count": null,
   "metadata": {
    "collapsed": true
   },
   "outputs": [],
   "source": []
  }
 ],
 "metadata": {
  "kernelspec": {
   "display_name": "Python 2",
   "language": "python",
   "name": "python2"
  },
  "language_info": {
   "codemirror_mode": {
    "name": "ipython",
    "version": 2
   },
   "file_extension": ".py",
   "mimetype": "text/x-python",
   "name": "python",
   "nbconvert_exporter": "python",
   "pygments_lexer": "ipython2",
   "version": "2.7.12"
  }
 },
 "nbformat": 4,
 "nbformat_minor": 0
}
